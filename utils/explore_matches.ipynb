{
  "cells": [
    {
      "cell_type": "code",
      "execution_count": 41,
      "outputs": [
        {
          "data": {
            "text/plain": "dict_keys([\u0027gyrA\u0027, \u0027catA1\u0027, \u0027dfrA7\u0027, \u0027sul1\u0027, \u0027sul2\u0027, \u0027TEM-1\u0027, \u0027blaCTX-M-15_23\u0027, \u0027qnr-S\u0027, \u0027parE\u0027, \u0027parC\u0027])"
          },
          "metadata": {},
          "output_type": "execute_result",
          "execution_count": 41
        }
      ],
      "source": "import sys, os\nimport glob\nimport json\nimport pandas as pd\nfrom collections import defaultdict\n\njson_dir \u003d \u0027/Users/coriny/cgps-gits/paarsnp-benchmark-runner/test/90370/Klemm_et_al_2018\u0027\n\nmatches \u003d defaultdict(list)\n\nfor json_file in glob.glob(json_dir + \u0027/*paarsnp.jsn\u0027):\n\n    with open(json_file, \u0027r\u0027) as jf:\n        paarsnp \u003d json.load(jf)\n\n    assembly_name \u003d os.path.basename(json_file).replace(\u0027_paarsnp.jsn\u0027, \u0027\u0027)\n\n    for match in paarsnp[\u0027matches\u0027]:\n        pid \u003d match[\u0027percentIdentity\u0027]\n        coverage \u003d ((match[\u0027library\u0027][\u0027stop\u0027] - match[\u0027library\u0027][\u0027start\u0027] + 1) / match[\u0027library\u0027][\u0027length\u0027]) * 100\n        name \u003d match[\u0027library\u0027][\u0027id\u0027]\n        matches[name].append((assembly_name, pid, coverage))\n\nmatches.keys()",
      "metadata": {
        "pycharm": {
          "metadata": false,
          "name": "#%%\n",
          "is_executing": false
        }
      }
    },
    {
      "cell_type": "code",
      "execution_count": 48,
      "outputs": [
        {
          "data": {
            "text/plain": "         PID  COVERAGE %\ncount   92.0        92.0\nmean   100.0       100.0\nstd      0.0         0.0\nmin    100.0       100.0\n25%    100.0       100.0\n50%    100.0       100.0\n75%    100.0       100.0\nmax    100.0       100.0",
            "text/html": "\u003cdiv\u003e\n\u003cstyle scoped\u003e\n    .dataframe tbody tr th:only-of-type {\n        vertical-align: middle;\n    }\n\n    .dataframe tbody tr th {\n        vertical-align: top;\n    }\n\n    .dataframe thead th {\n        text-align: right;\n    }\n\u003c/style\u003e\n\u003ctable border\u003d\"1\" class\u003d\"dataframe\"\u003e\n  \u003cthead\u003e\n    \u003ctr style\u003d\"text-align: right;\"\u003e\n      \u003cth\u003e\u003c/th\u003e\n      \u003cth\u003ePID\u003c/th\u003e\n      \u003cth\u003eCOVERAGE %\u003c/th\u003e\n    \u003c/tr\u003e\n  \u003c/thead\u003e\n  \u003ctbody\u003e\n    \u003ctr\u003e\n      \u003cth\u003ecount\u003c/th\u003e\n      \u003ctd\u003e92.0\u003c/td\u003e\n      \u003ctd\u003e92.0\u003c/td\u003e\n    \u003c/tr\u003e\n    \u003ctr\u003e\n      \u003cth\u003emean\u003c/th\u003e\n      \u003ctd\u003e100.0\u003c/td\u003e\n      \u003ctd\u003e100.0\u003c/td\u003e\n    \u003c/tr\u003e\n    \u003ctr\u003e\n      \u003cth\u003estd\u003c/th\u003e\n      \u003ctd\u003e0.0\u003c/td\u003e\n      \u003ctd\u003e0.0\u003c/td\u003e\n    \u003c/tr\u003e\n    \u003ctr\u003e\n      \u003cth\u003emin\u003c/th\u003e\n      \u003ctd\u003e100.0\u003c/td\u003e\n      \u003ctd\u003e100.0\u003c/td\u003e\n    \u003c/tr\u003e\n    \u003ctr\u003e\n      \u003cth\u003e25%\u003c/th\u003e\n      \u003ctd\u003e100.0\u003c/td\u003e\n      \u003ctd\u003e100.0\u003c/td\u003e\n    \u003c/tr\u003e\n    \u003ctr\u003e\n      \u003cth\u003e50%\u003c/th\u003e\n      \u003ctd\u003e100.0\u003c/td\u003e\n      \u003ctd\u003e100.0\u003c/td\u003e\n    \u003c/tr\u003e\n    \u003ctr\u003e\n      \u003cth\u003e75%\u003c/th\u003e\n      \u003ctd\u003e100.0\u003c/td\u003e\n      \u003ctd\u003e100.0\u003c/td\u003e\n    \u003c/tr\u003e\n    \u003ctr\u003e\n      \u003cth\u003emax\u003c/th\u003e\n      \u003ctd\u003e100.0\u003c/td\u003e\n      \u003ctd\u003e100.0\u003c/td\u003e\n    \u003c/tr\u003e\n  \u003c/tbody\u003e\n\u003c/table\u003e\n\u003c/div\u003e"
          },
          "metadata": {},
          "output_type": "execute_result",
          "execution_count": 48
        }
      ],
      "source": "sul2_df \u003d pd.DataFrame(matches[\u0027catA1\u0027], columns\u003d[\u0027ASSEMBLY_NAME\u0027, \u0027PID\u0027, \u0027COVERAGE %\u0027])\nsul2_df.describe()",
      "metadata": {
        "pycharm": {
          "metadata": false,
          "name": "#%%\n",
          "is_executing": false
        }
      }
    },
    {
      "cell_type": "code",
      "execution_count": 46,
      "outputs": [
        {
          "data": {
            "text/plain": "(92, 3)"
          },
          "metadata": {},
          "output_type": "execute_result",
          "execution_count": 46
        }
      ],
      "source": "sul2_df.shape",
      "metadata": {
        "pycharm": {
          "metadata": false,
          "name": "#%%\n",
          "is_executing": false
        }
      }
    },
    {
      "cell_type": "code",
      "execution_count": 47,
      "outputs": [
        {
          "data": {
            "text/plain": "Empty DataFrame\nColumns: [ASSEMBLY_NAME, PID, COVERAGE %]\nIndex: []",
            "text/html": "\u003cdiv\u003e\n\u003cstyle scoped\u003e\n    .dataframe tbody tr th:only-of-type {\n        vertical-align: middle;\n    }\n\n    .dataframe tbody tr th {\n        vertical-align: top;\n    }\n\n    .dataframe thead th {\n        text-align: right;\n    }\n\u003c/style\u003e\n\u003ctable border\u003d\"1\" class\u003d\"dataframe\"\u003e\n  \u003cthead\u003e\n    \u003ctr style\u003d\"text-align: right;\"\u003e\n      \u003cth\u003e\u003c/th\u003e\n      \u003cth\u003eASSEMBLY_NAME\u003c/th\u003e\n      \u003cth\u003ePID\u003c/th\u003e\n      \u003cth\u003eCOVERAGE %\u003c/th\u003e\n    \u003c/tr\u003e\n  \u003c/thead\u003e\n  \u003ctbody\u003e\n  \u003c/tbody\u003e\n\u003c/table\u003e\n\u003c/div\u003e"
          },
          "metadata": {},
          "output_type": "execute_result",
          "execution_count": 47
        }
      ],
      "source": "sul2_df.loc[sul2_df[\u0027COVERAGE %\u0027] \u003c 99.0]",
      "metadata": {
        "pycharm": {
          "metadata": false,
          "name": "#%%\n",
          "is_executing": false
        }
      }
    },
    {
      "cell_type": "code",
      "execution_count": 14,
      "outputs": [
        {
          "data": {
            "text/plain": "                ASSEMBLY NAME     PID  COVERAGE %\n25    22420_1_49_Pak0037_2017  100.00   82.107843\n26    22420_1_49_Pak0037_2017  100.00   82.107843\n27    22420_1_49_Pak0037_2017  100.00   82.107843\n28    22420_1_49_Pak0037_2017  100.00   82.107843\n29    22420_1_49_Pak0037_2017  100.00   82.107843\n40   22420_1_73_Pak12510_2017  100.00   96.936275\n41   22420_1_73_Pak12510_2017  100.00   96.936275\n42   22420_1_73_Pak12510_2017  100.00   96.936275\n43   22420_1_73_Pak12510_2017  100.00   96.936275\n44   22420_1_73_Pak12510_2017  100.00   96.936275\n45   22420_1_73_Pak12510_2017   99.75   97.549020\n46   22420_1_73_Pak12510_2017   99.75   97.549020\n47   22420_1_73_Pak12510_2017   99.75   97.549020\n48   22420_1_73_Pak12510_2017   99.75   97.549020\n49   22420_1_73_Pak12510_2017   99.75   97.549020\n60    22420_1_42_Pak6072_2017  100.00   96.936275\n61    22420_1_42_Pak6072_2017  100.00   96.936275\n62    22420_1_42_Pak6072_2017  100.00   96.936275\n63    22420_1_42_Pak6072_2017  100.00   96.936275\n64    22420_1_42_Pak6072_2017  100.00   96.936275\n65    22420_1_42_Pak6072_2017   99.75   96.936275\n66    22420_1_42_Pak6072_2017   99.75   96.936275\n67    22420_1_42_Pak6072_2017   99.75   96.936275\n68    22420_1_42_Pak6072_2017   99.75   96.936275\n69    22420_1_42_Pak6072_2017   99.75   96.936275\n75    22420_1_57_Pak0034_2017   99.74   93.014706\n76    22420_1_57_Pak0034_2017   99.74   93.014706\n77    22420_1_57_Pak0034_2017   99.74   93.014706\n78    22420_1_57_Pak0034_2017   99.74   93.014706\n79    22420_1_57_Pak0034_2017   99.74   93.014706\n100   22420_1_48_Pak5726_2017   99.43   85.661765\n101   22420_1_48_Pak5726_2017   99.43   85.661765\n102   22420_1_48_Pak5726_2017   99.43   85.661765\n103   22420_1_48_Pak5726_2017   99.43   85.661765\n104   22420_1_48_Pak5726_2017   99.43   85.661765",
            "text/html": "\u003cdiv\u003e\n\u003cstyle scoped\u003e\n    .dataframe tbody tr th:only-of-type {\n        vertical-align: middle;\n    }\n\n    .dataframe tbody tr th {\n        vertical-align: top;\n    }\n\n    .dataframe thead th {\n        text-align: right;\n    }\n\u003c/style\u003e\n\u003ctable border\u003d\"1\" class\u003d\"dataframe\"\u003e\n  \u003cthead\u003e\n    \u003ctr style\u003d\"text-align: right;\"\u003e\n      \u003cth\u003e\u003c/th\u003e\n      \u003cth\u003eASSEMBLY NAME\u003c/th\u003e\n      \u003cth\u003ePID\u003c/th\u003e\n      \u003cth\u003eCOVERAGE %\u003c/th\u003e\n    \u003c/tr\u003e\n  \u003c/thead\u003e\n  \u003ctbody\u003e\n    \u003ctr\u003e\n      \u003cth\u003e25\u003c/th\u003e\n      \u003ctd\u003e22420_1_49_Pak0037_2017\u003c/td\u003e\n      \u003ctd\u003e100.00\u003c/td\u003e\n      \u003ctd\u003e82.107843\u003c/td\u003e\n    \u003c/tr\u003e\n    \u003ctr\u003e\n      \u003cth\u003e26\u003c/th\u003e\n      \u003ctd\u003e22420_1_49_Pak0037_2017\u003c/td\u003e\n      \u003ctd\u003e100.00\u003c/td\u003e\n      \u003ctd\u003e82.107843\u003c/td\u003e\n    \u003c/tr\u003e\n    \u003ctr\u003e\n      \u003cth\u003e27\u003c/th\u003e\n      \u003ctd\u003e22420_1_49_Pak0037_2017\u003c/td\u003e\n      \u003ctd\u003e100.00\u003c/td\u003e\n      \u003ctd\u003e82.107843\u003c/td\u003e\n    \u003c/tr\u003e\n    \u003ctr\u003e\n      \u003cth\u003e28\u003c/th\u003e\n      \u003ctd\u003e22420_1_49_Pak0037_2017\u003c/td\u003e\n      \u003ctd\u003e100.00\u003c/td\u003e\n      \u003ctd\u003e82.107843\u003c/td\u003e\n    \u003c/tr\u003e\n    \u003ctr\u003e\n      \u003cth\u003e29\u003c/th\u003e\n      \u003ctd\u003e22420_1_49_Pak0037_2017\u003c/td\u003e\n      \u003ctd\u003e100.00\u003c/td\u003e\n      \u003ctd\u003e82.107843\u003c/td\u003e\n    \u003c/tr\u003e\n    \u003ctr\u003e\n      \u003cth\u003e40\u003c/th\u003e\n      \u003ctd\u003e22420_1_73_Pak12510_2017\u003c/td\u003e\n      \u003ctd\u003e100.00\u003c/td\u003e\n      \u003ctd\u003e96.936275\u003c/td\u003e\n    \u003c/tr\u003e\n    \u003ctr\u003e\n      \u003cth\u003e41\u003c/th\u003e\n      \u003ctd\u003e22420_1_73_Pak12510_2017\u003c/td\u003e\n      \u003ctd\u003e100.00\u003c/td\u003e\n      \u003ctd\u003e96.936275\u003c/td\u003e\n    \u003c/tr\u003e\n    \u003ctr\u003e\n      \u003cth\u003e42\u003c/th\u003e\n      \u003ctd\u003e22420_1_73_Pak12510_2017\u003c/td\u003e\n      \u003ctd\u003e100.00\u003c/td\u003e\n      \u003ctd\u003e96.936275\u003c/td\u003e\n    \u003c/tr\u003e\n    \u003ctr\u003e\n      \u003cth\u003e43\u003c/th\u003e\n      \u003ctd\u003e22420_1_73_Pak12510_2017\u003c/td\u003e\n      \u003ctd\u003e100.00\u003c/td\u003e\n      \u003ctd\u003e96.936275\u003c/td\u003e\n    \u003c/tr\u003e\n    \u003ctr\u003e\n      \u003cth\u003e44\u003c/th\u003e\n      \u003ctd\u003e22420_1_73_Pak12510_2017\u003c/td\u003e\n      \u003ctd\u003e100.00\u003c/td\u003e\n      \u003ctd\u003e96.936275\u003c/td\u003e\n    \u003c/tr\u003e\n    \u003ctr\u003e\n      \u003cth\u003e45\u003c/th\u003e\n      \u003ctd\u003e22420_1_73_Pak12510_2017\u003c/td\u003e\n      \u003ctd\u003e99.75\u003c/td\u003e\n      \u003ctd\u003e97.549020\u003c/td\u003e\n    \u003c/tr\u003e\n    \u003ctr\u003e\n      \u003cth\u003e46\u003c/th\u003e\n      \u003ctd\u003e22420_1_73_Pak12510_2017\u003c/td\u003e\n      \u003ctd\u003e99.75\u003c/td\u003e\n      \u003ctd\u003e97.549020\u003c/td\u003e\n    \u003c/tr\u003e\n    \u003ctr\u003e\n      \u003cth\u003e47\u003c/th\u003e\n      \u003ctd\u003e22420_1_73_Pak12510_2017\u003c/td\u003e\n      \u003ctd\u003e99.75\u003c/td\u003e\n      \u003ctd\u003e97.549020\u003c/td\u003e\n    \u003c/tr\u003e\n    \u003ctr\u003e\n      \u003cth\u003e48\u003c/th\u003e\n      \u003ctd\u003e22420_1_73_Pak12510_2017\u003c/td\u003e\n      \u003ctd\u003e99.75\u003c/td\u003e\n      \u003ctd\u003e97.549020\u003c/td\u003e\n    \u003c/tr\u003e\n    \u003ctr\u003e\n      \u003cth\u003e49\u003c/th\u003e\n      \u003ctd\u003e22420_1_73_Pak12510_2017\u003c/td\u003e\n      \u003ctd\u003e99.75\u003c/td\u003e\n      \u003ctd\u003e97.549020\u003c/td\u003e\n    \u003c/tr\u003e\n    \u003ctr\u003e\n      \u003cth\u003e60\u003c/th\u003e\n      \u003ctd\u003e22420_1_42_Pak6072_2017\u003c/td\u003e\n      \u003ctd\u003e100.00\u003c/td\u003e\n      \u003ctd\u003e96.936275\u003c/td\u003e\n    \u003c/tr\u003e\n    \u003ctr\u003e\n      \u003cth\u003e61\u003c/th\u003e\n      \u003ctd\u003e22420_1_42_Pak6072_2017\u003c/td\u003e\n      \u003ctd\u003e100.00\u003c/td\u003e\n      \u003ctd\u003e96.936275\u003c/td\u003e\n    \u003c/tr\u003e\n    \u003ctr\u003e\n      \u003cth\u003e62\u003c/th\u003e\n      \u003ctd\u003e22420_1_42_Pak6072_2017\u003c/td\u003e\n      \u003ctd\u003e100.00\u003c/td\u003e\n      \u003ctd\u003e96.936275\u003c/td\u003e\n    \u003c/tr\u003e\n    \u003ctr\u003e\n      \u003cth\u003e63\u003c/th\u003e\n      \u003ctd\u003e22420_1_42_Pak6072_2017\u003c/td\u003e\n      \u003ctd\u003e100.00\u003c/td\u003e\n      \u003ctd\u003e96.936275\u003c/td\u003e\n    \u003c/tr\u003e\n    \u003ctr\u003e\n      \u003cth\u003e64\u003c/th\u003e\n      \u003ctd\u003e22420_1_42_Pak6072_2017\u003c/td\u003e\n      \u003ctd\u003e100.00\u003c/td\u003e\n      \u003ctd\u003e96.936275\u003c/td\u003e\n    \u003c/tr\u003e\n    \u003ctr\u003e\n      \u003cth\u003e65\u003c/th\u003e\n      \u003ctd\u003e22420_1_42_Pak6072_2017\u003c/td\u003e\n      \u003ctd\u003e99.75\u003c/td\u003e\n      \u003ctd\u003e96.936275\u003c/td\u003e\n    \u003c/tr\u003e\n    \u003ctr\u003e\n      \u003cth\u003e66\u003c/th\u003e\n      \u003ctd\u003e22420_1_42_Pak6072_2017\u003c/td\u003e\n      \u003ctd\u003e99.75\u003c/td\u003e\n      \u003ctd\u003e96.936275\u003c/td\u003e\n    \u003c/tr\u003e\n    \u003ctr\u003e\n      \u003cth\u003e67\u003c/th\u003e\n      \u003ctd\u003e22420_1_42_Pak6072_2017\u003c/td\u003e\n      \u003ctd\u003e99.75\u003c/td\u003e\n      \u003ctd\u003e96.936275\u003c/td\u003e\n    \u003c/tr\u003e\n    \u003ctr\u003e\n      \u003cth\u003e68\u003c/th\u003e\n      \u003ctd\u003e22420_1_42_Pak6072_2017\u003c/td\u003e\n      \u003ctd\u003e99.75\u003c/td\u003e\n      \u003ctd\u003e96.936275\u003c/td\u003e\n    \u003c/tr\u003e\n    \u003ctr\u003e\n      \u003cth\u003e69\u003c/th\u003e\n      \u003ctd\u003e22420_1_42_Pak6072_2017\u003c/td\u003e\n      \u003ctd\u003e99.75\u003c/td\u003e\n      \u003ctd\u003e96.936275\u003c/td\u003e\n    \u003c/tr\u003e\n    \u003ctr\u003e\n      \u003cth\u003e75\u003c/th\u003e\n      \u003ctd\u003e22420_1_57_Pak0034_2017\u003c/td\u003e\n      \u003ctd\u003e99.74\u003c/td\u003e\n      \u003ctd\u003e93.014706\u003c/td\u003e\n    \u003c/tr\u003e\n    \u003ctr\u003e\n      \u003cth\u003e76\u003c/th\u003e\n      \u003ctd\u003e22420_1_57_Pak0034_2017\u003c/td\u003e\n      \u003ctd\u003e99.74\u003c/td\u003e\n      \u003ctd\u003e93.014706\u003c/td\u003e\n    \u003c/tr\u003e\n    \u003ctr\u003e\n      \u003cth\u003e77\u003c/th\u003e\n      \u003ctd\u003e22420_1_57_Pak0034_2017\u003c/td\u003e\n      \u003ctd\u003e99.74\u003c/td\u003e\n      \u003ctd\u003e93.014706\u003c/td\u003e\n    \u003c/tr\u003e\n    \u003ctr\u003e\n      \u003cth\u003e78\u003c/th\u003e\n      \u003ctd\u003e22420_1_57_Pak0034_2017\u003c/td\u003e\n      \u003ctd\u003e99.74\u003c/td\u003e\n      \u003ctd\u003e93.014706\u003c/td\u003e\n    \u003c/tr\u003e\n    \u003ctr\u003e\n      \u003cth\u003e79\u003c/th\u003e\n      \u003ctd\u003e22420_1_57_Pak0034_2017\u003c/td\u003e\n      \u003ctd\u003e99.74\u003c/td\u003e\n      \u003ctd\u003e93.014706\u003c/td\u003e\n    \u003c/tr\u003e\n    \u003ctr\u003e\n      \u003cth\u003e100\u003c/th\u003e\n      \u003ctd\u003e22420_1_48_Pak5726_2017\u003c/td\u003e\n      \u003ctd\u003e99.43\u003c/td\u003e\n      \u003ctd\u003e85.661765\u003c/td\u003e\n    \u003c/tr\u003e\n    \u003ctr\u003e\n      \u003cth\u003e101\u003c/th\u003e\n      \u003ctd\u003e22420_1_48_Pak5726_2017\u003c/td\u003e\n      \u003ctd\u003e99.43\u003c/td\u003e\n      \u003ctd\u003e85.661765\u003c/td\u003e\n    \u003c/tr\u003e\n    \u003ctr\u003e\n      \u003cth\u003e102\u003c/th\u003e\n      \u003ctd\u003e22420_1_48_Pak5726_2017\u003c/td\u003e\n      \u003ctd\u003e99.43\u003c/td\u003e\n      \u003ctd\u003e85.661765\u003c/td\u003e\n    \u003c/tr\u003e\n    \u003ctr\u003e\n      \u003cth\u003e103\u003c/th\u003e\n      \u003ctd\u003e22420_1_48_Pak5726_2017\u003c/td\u003e\n      \u003ctd\u003e99.43\u003c/td\u003e\n      \u003ctd\u003e85.661765\u003c/td\u003e\n    \u003c/tr\u003e\n    \u003ctr\u003e\n      \u003cth\u003e104\u003c/th\u003e\n      \u003ctd\u003e22420_1_48_Pak5726_2017\u003c/td\u003e\n      \u003ctd\u003e99.43\u003c/td\u003e\n      \u003ctd\u003e85.661765\u003c/td\u003e\n    \u003c/tr\u003e\n  \u003c/tbody\u003e\n\u003c/table\u003e\n\u003c/div\u003e"
          },
          "metadata": {},
          "output_type": "execute_result",
          "execution_count": 14
        }
      ],
      "source": "",
      "metadata": {
        "pycharm": {
          "metadata": false,
          "name": "#%%\n",
          "is_executing": false
        }
      }
    },
    {
      "cell_type": "code",
      "execution_count": null,
      "outputs": [],
      "source": "\n",
      "metadata": {
        "pycharm": {
          "metadata": false,
          "name": "#%%\n"
        }
      }
    }
  ],
  "metadata": {
    "language_info": {
      "codemirror_mode": {
        "name": "ipython",
        "version": 2
      },
      "file_extension": ".py",
      "mimetype": "text/x-python",
      "name": "python",
      "nbconvert_exporter": "python",
      "pygments_lexer": "ipython2",
      "version": "2.7.6"
    },
    "kernelspec": {
      "name": "python3",
      "language": "python",
      "display_name": "Python 3"
    },
    "stem_cell": {
      "cell_type": "raw",
      "source": "",
      "metadata": {
        "pycharm": {
          "metadata": false
        }
      }
    }
  },
  "nbformat": 4,
  "nbformat_minor": 0
}