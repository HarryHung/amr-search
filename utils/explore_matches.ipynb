{
  "cells": [
    {
      "cell_type": "code",
      "execution_count": 58,
      "outputs": [
        {
          "data": {
            "text/plain": "dict_keys([\u0027gyrA\u0027, \u0027catA1\u0027, \u0027dfrA7\u0027, \u0027sul1\u0027, \u0027sul2\u0027, \u0027TEM-1\u0027, \u0027blaCTX-M-15_23\u0027, \u0027qnr-S\u0027, \u0027parE\u0027, \u0027parC\u0027])"
          },
          "metadata": {},
          "output_type": "execute_result",
          "execution_count": 58
        }
      ],
      "source": "# %matplotlib inline\n# \nimport sys, os\nimport glob\nimport json\nimport pandas as pd\nfrom collections import defaultdict\nimport matplotlib.pyplot as plt\n\njson_dir \u003d \u0027/Users/coriny/cgps-gits/paarsnp-benchmark-runner/test/90370/Klemm_et_al_2018\u0027\n\nmatches \u003d defaultdict(list)\n\nfor json_file in glob.glob(json_dir + \u0027/*paarsnp.jsn\u0027):\n\n    with open(json_file, \u0027r\u0027) as jf:\n        paarsnp \u003d json.load(jf)\n\n    assembly_name \u003d os.path.basename(json_file).replace(\u0027_paarsnp.jsn\u0027, \u0027\u0027)\n\n    for match in paarsnp[\u0027matches\u0027]:\n        pid \u003d match[\u0027percentIdentity\u0027]\n        coverage \u003d ((match[\u0027library\u0027][\u0027stop\u0027] - match[\u0027library\u0027][\u0027start\u0027] + 1) / match[\u0027library\u0027][\u0027length\u0027]) * 100\n        name \u003d match[\u0027library\u0027][\u0027id\u0027]\n        matches[name].append((assembly_name, pid, coverage))\n\nmatches.keys()",
      "metadata": {
        "pycharm": {
          "metadata": false,
          "name": "#%%\n",
          "is_executing": false
        }
      }
    },
    {
      "cell_type": "code",
      "execution_count": 59,
      "outputs": [
        {
          "data": {
            "text/plain": "              PID  COVERAGE %\ncount  130.000000  130.000000\nmean    99.868077   98.043929\nstd      0.177406    4.442543\nmin     99.430000   82.107843\n25%     99.740000   97.549020\n50%    100.000000  100.000000\n75%    100.000000  100.000000\nmax    100.000000  100.000000",
            "text/html": "\u003cdiv\u003e\n\u003cstyle scoped\u003e\n    .dataframe tbody tr th:only-of-type {\n        vertical-align: middle;\n    }\n\n    .dataframe tbody tr th {\n        vertical-align: top;\n    }\n\n    .dataframe thead th {\n        text-align: right;\n    }\n\u003c/style\u003e\n\u003ctable border\u003d\"1\" class\u003d\"dataframe\"\u003e\n  \u003cthead\u003e\n    \u003ctr style\u003d\"text-align: right;\"\u003e\n      \u003cth\u003e\u003c/th\u003e\n      \u003cth\u003ePID\u003c/th\u003e\n      \u003cth\u003eCOVERAGE %\u003c/th\u003e\n    \u003c/tr\u003e\n  \u003c/thead\u003e\n  \u003ctbody\u003e\n    \u003ctr\u003e\n      \u003cth\u003ecount\u003c/th\u003e\n      \u003ctd\u003e130.000000\u003c/td\u003e\n      \u003ctd\u003e130.000000\u003c/td\u003e\n    \u003c/tr\u003e\n    \u003ctr\u003e\n      \u003cth\u003emean\u003c/th\u003e\n      \u003ctd\u003e99.868077\u003c/td\u003e\n      \u003ctd\u003e98.043929\u003c/td\u003e\n    \u003c/tr\u003e\n    \u003ctr\u003e\n      \u003cth\u003estd\u003c/th\u003e\n      \u003ctd\u003e0.177406\u003c/td\u003e\n      \u003ctd\u003e4.442543\u003c/td\u003e\n    \u003c/tr\u003e\n    \u003ctr\u003e\n      \u003cth\u003emin\u003c/th\u003e\n      \u003ctd\u003e99.430000\u003c/td\u003e\n      \u003ctd\u003e82.107843\u003c/td\u003e\n    \u003c/tr\u003e\n    \u003ctr\u003e\n      \u003cth\u003e25%\u003c/th\u003e\n      \u003ctd\u003e99.740000\u003c/td\u003e\n      \u003ctd\u003e97.549020\u003c/td\u003e\n    \u003c/tr\u003e\n    \u003ctr\u003e\n      \u003cth\u003e50%\u003c/th\u003e\n      \u003ctd\u003e100.000000\u003c/td\u003e\n      \u003ctd\u003e100.000000\u003c/td\u003e\n    \u003c/tr\u003e\n    \u003ctr\u003e\n      \u003cth\u003e75%\u003c/th\u003e\n      \u003ctd\u003e100.000000\u003c/td\u003e\n      \u003ctd\u003e100.000000\u003c/td\u003e\n    \u003c/tr\u003e\n    \u003ctr\u003e\n      \u003cth\u003emax\u003c/th\u003e\n      \u003ctd\u003e100.000000\u003c/td\u003e\n      \u003ctd\u003e100.000000\u003c/td\u003e\n    \u003c/tr\u003e\n  \u003c/tbody\u003e\n\u003c/table\u003e\n\u003c/div\u003e"
          },
          "metadata": {},
          "output_type": "execute_result",
          "execution_count": 59
        }
      ],
      "source": "sul2_df \u003d pd.DataFrame(matches[\u0027sul2\u0027], columns\u003d[\u0027ASSEMBLY_NAME\u0027, \u0027PID\u0027, \u0027COVERAGE %\u0027])\nsul2_df.describe()",
      "metadata": {
        "pycharm": {
          "metadata": false,
          "name": "#%%\n",
          "is_executing": false
        }
      }
    },
    {
      "cell_type": "code",
      "execution_count": 60,
      "outputs": [
        {
          "data": {
            "text/plain": "PID\n99.43      5\n99.63     25\n99.74      5\n99.75     15\n100.00    80\ndtype: int64"
          },
          "metadata": {},
          "output_type": "execute_result",
          "execution_count": 60
        }
      ],
      "source": "counts \u003d sul2_df[[\u0027PID\u0027]].groupby(\u0027PID\u0027).size()\n# plt.savefig(\u0027test.png\u0027)\ncounts",
      "metadata": {
        "pycharm": {
          "metadata": false,
          "name": "#%%\n",
          "is_executing": false
        }
      }
    },
    {
      "cell_type": "code",
      "execution_count": 61,
      "outputs": [
        {
          "data": {
            "text/plain": "\u003cmatplotlib.axes._subplots.AxesSubplot at 0x114ed4828\u003e"
          },
          "metadata": {},
          "output_type": "execute_result",
          "execution_count": 61
        },
        {
          "data": {
            "text/plain": "\u003cFigure size 432x288 with 1 Axes\u003e",
            "image/png": "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\u003d\u003d\n"
          },
          "metadata": {
            "needs_background": "light"
          },
          "output_type": "display_data"
        }
      ],
      "source": "\nplt.close(\u0027all\u0027)\nplt.show()\ncounts.plot()",
      "metadata": {
        "pycharm": {
          "metadata": false,
          "name": "#%%\n",
          "is_executing": false
        }
      }
    },
    {
      "cell_type": "code",
      "execution_count": 40,
      "outputs": [
        {
          "data": {
            "text/plain": "\u003cmatplotlib.axes._subplots.AxesSubplot at 0x114d3ba90\u003e"
          },
          "metadata": {},
          "output_type": "execute_result",
          "execution_count": 40
        },
        {
          "data": {
            "text/plain": "\u003cFigure size 432x288 with 1 Axes\u003e",
            "image/png": "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\u003d\u003d\n"
          },
          "metadata": {
            "needs_background": "light"
          },
          "output_type": "display_data"
        }
      ],
      "source": "",
      "metadata": {
        "pycharm": {
          "metadata": false,
          "name": "#%%\n",
          "is_executing": false
        }
      }
    }
  ],
  "metadata": {
    "language_info": {
      "codemirror_mode": {
        "name": "ipython",
        "version": 2
      },
      "file_extension": ".py",
      "mimetype": "text/x-python",
      "name": "python",
      "nbconvert_exporter": "python",
      "pygments_lexer": "ipython2",
      "version": "2.7.6"
    },
    "kernelspec": {
      "name": "python3",
      "language": "python",
      "display_name": "Python 3"
    },
    "stem_cell": {
      "cell_type": "raw",
      "source": "",
      "metadata": {
        "pycharm": {
          "metadata": false
        }
      }
    }
  },
  "nbformat": 4,
  "nbformat_minor": 0
}